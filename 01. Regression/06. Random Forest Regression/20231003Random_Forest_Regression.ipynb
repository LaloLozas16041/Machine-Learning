{
 "cells": [
  {
   "cell_type": "markdown",
   "metadata": {},
   "source": [
    "## Regresión con Bosques Aleatorios"
   ]
  },
  {
   "cell_type": "markdown",
   "metadata": {},
   "source": [
    "### a) Importación de las bibliotecas"
   ]
  },
  {
   "cell_type": "code",
   "execution_count": 6,
   "metadata": {},
   "outputs": [],
   "source": [
    "import numpy as np\n",
    "import matplotlib.pyplot as plt\n",
    "import pandas as pd"
   ]
  },
  {
   "cell_type": "markdown",
   "metadata": {},
   "source": [
    "### b) Importación del conjunto de datos"
   ]
  },
  {
   "cell_type": "code",
   "execution_count": 7,
   "metadata": {},
   "outputs": [],
   "source": [
    "dataset = pd.read_csv('Position_Salaries.csv')\n",
    "X = dataset.iloc[:, 1:-1].values\n",
    "y = dataset.iloc[:, -1].values"
   ]
  },
  {
   "cell_type": "markdown",
   "metadata": {},
   "source": [
    "### c) Entrenamiento del modelo de regresión de bosque aleatorio en todo el conjunto de datos"
   ]
  },
  {
   "cell_type": "code",
   "execution_count": 8,
   "metadata": {},
   "outputs": [
    {
     "data": {
      "text/plain": [
       "RandomForestRegressor(bootstrap=True, ccp_alpha=0.0, criterion='mse',\n",
       "                      max_depth=None, max_features='auto', max_leaf_nodes=None,\n",
       "                      max_samples=None, min_impurity_decrease=0.0,\n",
       "                      min_impurity_split=None, min_samples_leaf=1,\n",
       "                      min_samples_split=2, min_weight_fraction_leaf=0.0,\n",
       "                      n_estimators=10, n_jobs=None, oob_score=False,\n",
       "                      random_state=0, verbose=0, warm_start=False)"
      ]
     },
     "execution_count": 8,
     "metadata": {},
     "output_type": "execute_result"
    }
   ],
   "source": [
    "from sklearn.ensemble import RandomForestRegressor\n",
    "regressor = RandomForestRegressor(n_estimators = 10, random_state = 0)\n",
    "regressor.fit(X, y)"
   ]
  },
  {
   "cell_type": "markdown",
   "metadata": {},
   "source": [
    "### d) Predecir un nuevo resultado"
   ]
  },
  {
   "cell_type": "code",
   "execution_count": 9,
   "metadata": {},
   "outputs": [
    {
     "data": {
      "text/plain": [
       "array([167000.])"
      ]
     },
     "execution_count": 9,
     "metadata": {},
     "output_type": "execute_result"
    }
   ],
   "source": [
    "regressor.predict([[6.5]])"
   ]
  },
  {
   "cell_type": "markdown",
   "metadata": {},
   "source": [
    "### e) Visualización del Bosque Aleatorio"
   ]
  },
  {
   "cell_type": "code",
   "execution_count": 10,
   "metadata": {},
   "outputs": [
    {
     "data": {
      "image/png": "[encoded data removed]",
      "text/plain": [
       "<Figure size 432x288 with 1 Axes>"
      ]
     },
     "metadata": {
      "needs_background": "light"
     },
     "output_type": "display_data"
    }
   ],
   "source": [
    "X_grid = np.arange(min(X), max(X), 0.01)\n",
    "X_grid = X_grid.reshape((len(X_grid), 1))\n",
    "plt.scatter(X, y, color = 'red')\n",
    "plt.plot(X_grid, regressor.predict(X_grid), color = 'blue')\n",
    "plt.title('Determinación de la Regresión por Random Forest')\n",
    "plt.xlabel('Posición')\n",
    "plt.ylabel('Salario')\n",
    "plt.show()"
   ]
  },
  {
   "cell_type": "markdown",
   "metadata": {},
   "source": [
    "La regresión con Random Forest es una técnica de aprendizaje de conjunto que utiliza múltiples árboles de decisión para realizar predicciones más precisas y estables que las que se obtendrían de un único árbol de decisión. A continuación, se describe detalladamente:"
   ]
  },
  {
   "cell_type": "markdown",
   "metadata": {},
   "source": [
    "### 1. Ensemble Learning\n",
    "Random Forest es un ejemplo de ensemble learning, donde múltiples modelos (en este caso, árboles de decisión) se entrenan y sus predicciones se combinan. En la regresión, esto generalmente significa promediar los resultados de todos los árboles para obtener una única predicción."
   ]
  },
  {
   "cell_type": "markdown",
   "metadata": {},
   "source": [
    "### 2. Bootstrap Aggregating (Bagging)\n",
    "Cada árbol en el Random Forest se construye a partir de una muestra con reemplazo del conjunto de datos de entrenamiento, conocido como una muestra bootstrap. Este método de muestreo introduce variabilidad en los árboles, lo que ayuda a mejorar la robustez del modelo y reduce la varianza sin aumentar el sesgo."
   ]
  },
  {
   "cell_type": "markdown",
   "metadata": {},
   "source": [
    "### 3. Construcción de Árboles\n",
    "Los árboles de decisión dentro de un Random Forest crecen hasta su máxima profundidad sin poda, lo que permite que el modelo capture complejidades en los datos. Sin embargo, cada vez que se realiza una división durante la construcción del árbol, solo se considera un subconjunto aleatorio de las características. Esto aumenta la diversidad entre los árboles y contribuye a la propiedad de reducción de varianza del modelo."
   ]
  },
  {
   "cell_type": "markdown",
   "metadata": {},
   "source": [
    "### 4. Reducción de Varianza\n",
    "La técnica de Random Forest es especialmente eficaz para reducir la varianza de un modelo sin aumentar significativamente el sesgo. Esto se debe a que el promedio de múltiples árboles con sobreajuste (high-variance) puede cancelar sus errores individuales, mientras que el sesgo, que es sistemático, no se ve afectado significativamente."
   ]
  },
  {
   "cell_type": "markdown",
   "metadata": {},
   "source": [
    "### 5. Predicción\n",
    "Para realizar una predicción, Random Forest introduce un nuevo dato a cada uno de los árboles en el conjunto. Cada árbol hace una predicción del valor de la variable dependiente. La predicción final del Random Forest es el promedio de todas las predicciones de los árboles individuales."
   ]
  },
  {
   "cell_type": "markdown",
   "metadata": {},
   "source": [
    "### 6. Importancia de las Características\n",
    "Random Forest también proporciona información sobre la importancia de las características. Al observar cuánto contribuyen las diferentes características a la reducción del error de predicción en los árboles, Random Forest puede ofrecer estimaciones de la importancia de cada característica."
   ]
  },
  {
   "cell_type": "markdown",
   "metadata": {},
   "source": [
    "### 7. Ventajas y Desventajas\n",
    "- **Ventajas:**\n",
    "  - Robusto ante el sobreajuste, especialmente en conjuntos de datos grandes.\n",
    "  - Puede manejar miles de variables de entrada sin selección de variables.\n",
    "  - Proporciona una medida de la importancia de las características.\n",
    "  - No requiere escalamiento de las características.\n",
    "- **Desventajas:**\n",
    "  - No tan interpretable como un árbol de decisión individual.\n",
    "  - Puede ser computacionalmente intensivo, por lo que podría no ser práctico con datos extremadamente grandes.\n",
    "  - La predicción es más lenta que otros algoritmos debido al proceso de agregación."
   ]
  },
  {
   "cell_type": "markdown",
   "metadata": {},
   "source": [
    "### 8. Hiperparámetros\n",
    "Los hiperparámetros importantes en Random Forest incluyen:\n",
    "- Número de árboles en el bosque.\n",
    "- Número de características consideradas para dividir en cada nodo.\n",
    "- Profundidad máxima de los árboles.\n",
    "- Número mínimo de muestras requeridas para dividir un nodo.\n",
    "- Número mínimo de muestras requeridas en una hoja terminal."
   ]
  },
  {
   "cell_type": "markdown",
   "metadata": {},
   "source": [
    "\n",
    "### Ejemplo Práctico:\n",
    "En el ámbito de la economía, Random Forest puede ser utilizado para predecir el precio de la vivienda basándose en un conjunto de características como el tamaño de la vivienda, la ubicación, el año de construcción, y otras características del mercado. El modelo proporcionará una predicción que es el promedio de las predicciones de todos los árboles, cada uno basado en un subconjunto de los datos y características.\n",
    "\n",
    "Random Forest es una técnica poderosa y versátil en el análisis predictivo y es ampliamente utilizado en campos como la bioinformática, finanzas y economía debido a su flexibilidad, capacidad de manejo de datos no lineales y capacidad de manejar grandes conjuntos de datos con muchas variables."
   ]
  }
 ],
 "metadata": {
  "kernelspec": {
   "display_name": "base",
   "language": "python",
   "name": "python3"
  },
  "language_info": {
   "codemirror_mode": {
    "name": "ipython",
    "version": 3
   },
   "file_extension": ".py",
   "mimetype": "text/x-python",
   "name": "python",
   "nbconvert_exporter": "python",
   "pygments_lexer": "ipython3",
   "version": "3.7.6"
  },
  "orig_nbformat": 4
 },
 "nbformat": 4,
 "nbformat_minor": 2
}
