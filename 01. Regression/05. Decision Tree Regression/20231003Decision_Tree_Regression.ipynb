{
 "cells": [
  {
   "cell_type": "markdown",
   "metadata": {},
   "source": [
    "## 05.- Regresión con Árboles"
   ]
  },
  {
   "cell_type": "markdown",
   "metadata": {},
   "source": [
    "### a) Importación de las librerías"
   ]
  },
  {
   "cell_type": "code",
   "execution_count": 1,
   "metadata": {},
   "outputs": [],
   "source": [
    "import numpy as np\n",
    "import matplotlib.pyplot as plt\n",
    "import pandas as pd"
   ]
  },
  {
   "cell_type": "markdown",
   "metadata": {},
   "source": [
    "### b) Importación del conjunto de datos"
   ]
  },
  {
   "cell_type": "code",
   "execution_count": 2,
   "metadata": {},
   "outputs": [],
   "source": [
    "dataset = pd.read_csv('Position_Salaries.csv')\n",
    "X = dataset.iloc[:, 1:-1].values\n",
    "y = dataset.iloc[:, -1].values"
   ]
  },
  {
   "cell_type": "markdown",
   "metadata": {},
   "source": [
    "### c) Entrenamiento del modelo de regresión del árbol de decisión en todo el conjunto de datos"
   ]
  },
  {
   "cell_type": "code",
   "execution_count": 3,
   "metadata": {},
   "outputs": [
    {
     "data": {
      "text/plain": [
       "DecisionTreeRegressor(random_state=0)"
      ]
     },
     "execution_count": 3,
     "metadata": {},
     "output_type": "execute_result"
    }
   ],
   "source": [
    "from sklearn.tree import DecisionTreeRegressor\n",
    "regressor = DecisionTreeRegressor(random_state = 0)\n",
    "regressor.fit(X, y)"
   ]
  },
  {
   "cell_type": "markdown",
   "metadata": {},
   "source": [
    "### c) Predecir un nuevo resultado"
   ]
  },
  {
   "cell_type": "code",
   "execution_count": 4,
   "metadata": {},
   "outputs": [
    {
     "data": {
      "text/plain": [
       "array([150000.])"
      ]
     },
     "execution_count": 4,
     "metadata": {},
     "output_type": "execute_result"
    }
   ],
   "source": [
    "regressor.predict([[6.5]])"
   ]
  },
  {
   "cell_type": "markdown",
   "metadata": {},
   "source": [
    "### d) Visualización de los resultados de la regresión del árbol de decisión"
   ]
  },
  {
   "cell_type": "code",
   "execution_count": 5,
   "metadata": {},
   "outputs": [
    {
     "data": {
      "image/png": "[encoded data removed]",
      "text/plain": [
       "<Figure size 640x480 with 1 Axes>"
      ]
     },
     "metadata": {},
     "output_type": "display_data"
    }
   ],
   "source": [
    "X_grid = np.arange(min(X), max(X), 0.01)\n",
    "X_grid = X_grid.reshape((len(X_grid), 1))\n",
    "plt.scatter(X, y, color = 'red')\n",
    "plt.plot(X_grid, regressor.predict(X_grid), color = 'blue')\n",
    "plt.title('Determinación del Árbol de Decisión')\n",
    "plt.xlabel('Nivel de la posición')\n",
    "plt.ylabel('Ingresos')\n",
    "plt.show()"
   ]
  },
  {
   "cell_type": "markdown",
   "metadata": {},
   "source": [
    "La regresión con árboles de decisión es un método no paramétrico utilizado para predecir una variable de respuesta continua mediante la segmentación del espacio de características en regiones simples, dentro de las cuales las predicciones se realizan utilizando el valor medio de la variable dependiente. A continuación, se describe detalladamente:"
   ]
  },
  {
   "cell_type": "markdown",
   "metadata": {},
   "source": [
    "### 1. Estructura del Árbol\n",
    "Un árbol de decisión es una estructura de árbol que representa un conjunto de decisiones que se pueden utilizar para predecir el valor de salida. En el contexto de la regresión, cada nodo del árbol divide el espacio de características en dos subespacios según algún valor umbral de una de las variables de entrada."
   ]
  },
  {
   "cell_type": "markdown",
   "metadata": {},
   "source": [
    "### 2. Proceso de División\n",
    "El proceso de crear un árbol de decisión de regresión implica dividir los puntos de datos en nodos internos basados en un conjunto de puntos de división. Cada división se elige de manera que se minimice alguna medida de heterogeneidad dentro de las regiones resultantes. La medida más comúnmente utilizada es el error cuadrático medio (MSE), que se define como:\n",
    "\n",
    "$$ MSE = \\frac{1}{N} \\sum_{i=1}^{N} (y_i - \\hat{y}_i)^2$$\n",
    "\n",
    "donde $y_i$ son los valores reales y $\\hat{y}_i$ son las predicciones del modelo."
   ]
  },
  {
   "cell_type": "markdown",
   "metadata": {},
   "source": [
    "### 3. Criterio de División\n",
    "Para decidir dónde dividir los datos, el algoritmo considera cada característica y cada posible valor de esa característica para determinar el punto que proporciona la mejor reducción del MSE. Este proceso se repite recursivamente, comenzando con el conjunto de datos completo y considerando subconjuntos sucesivos."
   ]
  },
  {
   "cell_type": "markdown",
   "metadata": {},
   "source": [
    "### 4. Poda del Árbol\n",
    "Para evitar el sobreajuste, se emplea la técnica de poda del árbol, que elimina las ramas que tienen poco poder de predicción. Esto se hace generalmente mediante la poda de coste-complejidad, que penaliza la complejidad del árbol, o la poda basada en validación cruzada."
   ]
  },
  {
   "cell_type": "markdown",
   "metadata": {},
   "source": [
    "### 5. Predicción\n",
    "Una vez construido el árbol, la predicción para un nuevo punto de datos se hace pasando este punto a través del árbol, comenzando en la raíz y moviéndose a través de los nodos internos según las condiciones de cada nodo, hasta llegar a una hoja. El valor predicho es el promedio de la variable dependiente de los puntos de entrenamiento dentro de esa hoja."
   ]
  },
  {
   "cell_type": "markdown",
   "metadata": {},
   "source": [
    "### 6. Ventajas y Desventajas\n",
    "Los árboles de decisión de regresión son fáciles de interpretar y no requieren ninguna suposición sobre la distribución de los datos. Sin embargo, son propensos al sobreajuste, especialmente cuando el árbol se permite crecer sin restricciones."
   ]
  },
  {
   "cell_type": "markdown",
   "metadata": {},
   "source": [
    "### 7. Algoritmos Comunes\n",
    "Los algoritmos comunes para construir árboles de decisión de regresión incluyen CART (Classification and Regression Trees) y C4.5, aunque este último se utiliza más comúnmente para la clasificación."
   ]
  },
  {
   "cell_type": "markdown",
   "metadata": {},
   "source": [
    "### 8. Mejoras y Variantes\n",
    "Existen variantes y mejoras del modelo básico de árbol de decisión, como los árboles de decisión con aumento de gradiente y los bosques aleatorios, que construyen muchos árboles y toman un promedio de sus predicciones para mejorar la robustez y precisión del modelo."
   ]
  },
  {
   "cell_type": "markdown",
   "metadata": {},
   "source": [
    "### Ejemplo Práctico:\n",
    "Imagina que quieres predecir el consumo de energía de los hogares basándote en factores como el tamaño del hogar, la ubicación y la temporada. Un árbol de decisión dividiría el conjunto de datos en grupos basándose en estas características y usaría el consumo medio de energía de los hogares en cada grupo para hacer predicciones.\n",
    "\n",
    "Los árboles de decisión de regresión son una herramienta poderosa para la modelización predictiva, que proporcionan la base para métodos de aprendizaje en conjunto más avanzados y ampliamente utilizados en análisis predictivo y en la ciencia de datos."
   ]
  }
 ],
 "metadata": {
  "kernelspec": {
   "display_name": "base",
   "language": "python",
   "name": "python3"
  },
  "language_info": {
   "codemirror_mode": {
    "name": "ipython",
    "version": 3
   },
   "file_extension": ".py",
   "mimetype": "text/x-python",
   "name": "python",
   "nbconvert_exporter": "python",
   "pygments_lexer": "ipython3",
   "version": "3.9.13"
  },
  "orig_nbformat": 4
 },
 "nbformat": 4,
 "nbformat_minor": 2
}
