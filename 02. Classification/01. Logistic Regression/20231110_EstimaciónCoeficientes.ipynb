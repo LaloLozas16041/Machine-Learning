{
 "cells": [
  {
   "cell_type": "markdown",
   "metadata": {},
   "source": [
    "### 1. Función de Verosimilitud\n",
    "El objetivo principal al ajustar un modelo de Regresión Logística es encontrar los coeficientes $\\beta$ que maximizan la función de verosimilitud. La función de verosimilitud representa la probabilidad conjunta de observar los resultados reales de la variable dependiente dado el conjunto de datos de entrenamiento y el modelo."
   ]
  },
  {
   "cell_type": "markdown",
   "metadata": {},
   "source": [
    "\n",
    "### 2. Función de Verosimilitud para la Regresión Logística\n",
    "Dado que estamos trabajando con variables binarias (0 y 1), la función de verosimilitud en la Regresión Logística se define como sigue:\n",
    "\n",
    "$$ L(\\beta) = \\prod_{i=1}^{n} \\left( \\frac{1}{1 + e^{-\\left(\\beta_0 + \\beta_1X_{1i} + \\ldots + \\beta_pX_{pi}\\right)}} \\right)^{y_i} \\left( \\frac{e^{-\\left(\\beta_0 + \\beta_1X_{1i} + \\ldots + \\beta_pX_{pi}\\right)}}{1 + e^{-\\left(\\beta_0 + \\beta_1X_{1i} + \\ldots + \\beta_pX_{pi}\\right)}} \\right)^{(1 - y_i)} $$\n",
    "\n",
    "donde:\n",
    "- $L(\\beta)$ es la función de verosimilitud.\n",
    "- $\\beta_0, \\beta_1, \\ldots, \\beta_p$ son los coeficientes que queremos encontrar.\n",
    "- $X_{1i}, X_{2i}, \\ldots, X_{pi}$ son los valores de las variables independientes para la observación \\( i \\).\n",
    "- $y_i$ es el resultado real de la variable dependiente para la observación \\( i \\).\n",
    "- $n$ es el número total de observaciones en el conjunto de datos de entrenamiento."
   ]
  },
  {
   "cell_type": "markdown",
   "metadata": {},
   "source": [
    "### 3. Estimación de Coeficientes\n",
    "El procedimiento más común para estimar los coeficientes en la Regresión Logística es utilizar el método de máxima verosimilitud (Maximum Likelihood Estimation, MLE). El objetivo es encontrar los valores de los coeficientes $\\beta$ que maximizan la función de verosimilitud $L(\\beta)$."
   ]
  },
  {
   "cell_type": "markdown",
   "metadata": {},
   "source": [
    "### 4. Logaritmo de la Función de Verosimilitud\n",
    "En lugar de maximizar directamente la función de verosimilitud, es común maximizar el logaritmo natural de la función de verosimilitud (log-verosimilitud). Esto simplifica las matemáticas y no afecta el resultado, ya que el logaritmo es una función monótona creciente. La log-verosimilitud se define como:\n",
    "\n",
    "$$ \\log(L(\\beta)) = \\sum_{i=1}^{n} \\left[ y_i \\log\\left(\\frac{1}{1 + e^{-\\left(\\beta_0 + \\beta_1X_{1i} + \\ldots + \\beta_pX_{pi}\\right)}}\\right) + (1 - y_i) \\log\\left(\\frac{e^{-\\left(\\beta_0 + \\beta_1X_{1i} + \\ldots + \\beta_pX_{pi}\\right)}}{1 + e^{-\\left(\\beta_0 + \\beta_1X_{1i} + \\ldots + \\beta_pX_{pi}\\right)}}\\right) \\right] $$"
   ]
  },
  {
   "cell_type": "markdown",
   "metadata": {},
   "source": [
    "### 5. Optimización\n",
    "Para encontrar los valores óptimos de los coeficientes $\\beta$ que maximizan la log-verosimilitud, se utiliza un algoritmo de optimización. El algoritmo más comúnmente utilizado es el algoritmo de descenso de gradiente, que ajusta iterativamente los coeficientes para moverse hacia la dirección del gradiente ascendente de la log-verosimilitud."
   ]
  },
  {
   "cell_type": "markdown",
   "metadata": {},
   "source": [
    "\n",
    "### 6. Regularización\n",
    "En algunos casos, se puede aplicar regularización a la Regresión Logística para evitar el sobreajuste. La regularización L1 (Lasso) o L2 (Ridge) se utiliza para penalizar ciertos coeficientes, lo que puede llevar a la selección de características y un modelo más robusto.\n"
   ]
  },
  {
   "cell_type": "markdown",
   "metadata": {},
   "source": [
    "\n",
    "### 7. Evaluación y Validación\n",
    "Una vez que se han estimado los coeficientes \\( \\beta \\), el modelo de Regresión Logística se puede evaluar utilizando conjuntos de datos de prueba para medir su rendimiento en términos de métricas de clasificación, como precisión, sensibilidad y especificidad.\n",
    "\n",
    "En resumen, los coeficientes en un modelo de Regresión Logística se obtienen maximizando la función de verosimilitud (o la log-verosimilitud) utilizando el método de máxima verosimilitud. Este proceso implica encontrar los valores de \\( \\beta \\) que hacen que los datos observados sean más probables bajo el modelo."
   ]
  }
 ],
 "metadata": {
  "language_info": {
   "name": "python"
  }
 },
 "nbformat": 4,
 "nbformat_minor": 2
}
